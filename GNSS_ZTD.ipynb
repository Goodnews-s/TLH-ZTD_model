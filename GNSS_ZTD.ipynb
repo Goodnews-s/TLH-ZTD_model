{
 "cells": [
  {
   "cell_type": "code",
   "execution_count": null,
   "id": "9fb8e466",
   "metadata": {},
   "outputs": [],
   "source": [
    "import os\n",
    "import xlwt\n",
    "\n",
    "Year=[]\n",
    "def GetYear(df):\n",
    "    Year=[]\n",
    "    if len(df)==289:\n",
    "        Year.append(df[1].strip().replace(\"  \",\" \").split(\" \"))\n",
    "        Year.append(df[49].strip().replace(\"  \",\" \").split(\" \"))\n",
    "        Year.append(df[97].strip().replace(\"  \",\" \").split(\" \"))\n",
    "        Year.append(df[145].strip().replace(\"  \",\" \").split(\" \"))\n",
    "        Year.append(df[193].strip().replace(\"  \",\" \").split(\" \"))\n",
    "        Year.append(df[241].strip().replace(\"  \",\" \").split(\" \"))\n",
    "    return Year\n",
    "\n",
    "for i in range(len(file_F)):\n",
    "    xlsbpath=r\"/\"+file_F[i]+\"/\"\n",
    "    os.chdir(xlsbpath) \n",
    "    file_S = os.listdir(xlsbpath)\n",
    "    year1=[]\n",
    "    for j in range(len(file_S)):\n",
    "        xlsb=xlsbpath+file_S[j]\n",
    "        os.chdir(xlsb) \n",
    "        file_tr = os.listdir(xlsb)\n",
    "        for k in range(len(file_tr)):\n",
    "            f = open(xlsb+'/'+file_tr[k],\"r\")\n",
    "            df=f.read().split('_SIG MTEMP')[1]\n",
    "                .split('-TROP/SOLUTION')[0].strip().replace(\"\\n\",\"\")\n",
    "                .replace(\"  \",\" \").split(file_F[i])\n",
    "            year=GetYear(df)\n",
    "            year1.append(year)\n",
    "    Year.append(year1)"
   ]
  },
  {
   "cell_type": "code",
   "execution_count": null,
   "id": "385fb89e",
   "metadata": {},
   "outputs": [],
   "source": [
    "import pandas as pd\n",
    "DF=[]\n",
    "for i in range(len(Year)):\n",
    "    DF_=[]\n",
    "    for j in range(len(Year[i])):\n",
    "        DF_1=[]\n",
    "        for k in range(len(Year[i][j])):\n",
    "            DF_2=[]\n",
    "            DF_2.append(data[1][i+1])  \n",
    "            DF_2.append(data[2][i+1])\n",
    "            DF_2.append(data[3][i+1])\n",
    "            DF_2.append(Year[i][j][k][0])\n",
    "            DF_2.append(Year[i][j][k][1])\n",
    "            DF_1.append(DF_2)\n",
    "        DF_.append(DF_1)\n",
    "    DF.append(DF_)"
   ]
  },
  {
   "cell_type": "code",
   "execution_count": null,
   "id": "5e11a9a9",
   "metadata": {},
   "outputs": [],
   "source": [
    "def write_field_xls(path, sheet_name, value):\n",
    "    index = len(value)\n",
    "    workbook = xlwt.Workbook()\n",
    "    sheet = workbook.add_sheet(sheet_name)\n",
    "    for i in range(0, index):\n",
    "        for j in range(0, len(value[i])):\n",
    "            sheet.write(i, j, value[i][j])\n",
    "    workbook.save(path)\n",
    "    print(\"suss!\")"
   ]
  },
  {
   "cell_type": "code",
   "execution_count": null,
   "id": "d0fb76bc",
   "metadata": {},
   "outputs": [],
   "source": [
    "for i in range(len(DF)):\n",
    "    path=\"/\"+file_F[i]+\".xlsx\"\n",
    "    z=0\n",
    "    workbook = xlwt.Workbook()\n",
    "    sheet = workbook.add_sheet(file_F[i])\n",
    "    for j in range(len(DF[i])):\n",
    "        for k in range(len(DF[i][j])):\n",
    "            for m in range(len(DF[i][j][k])):\n",
    "                sheet.write(z,m, DF[i][j][k][m])\n",
    "            z+=1\n",
    "            workbook.save(path)\n",
    "    print(file_F[i]+\"suss!\")"
   ]
  }
 ],
 "metadata": {
  "kernelspec": {
   "display_name": "Python 3 (ipykernel)",
   "language": "python",
   "name": "python3"
  },
  "language_info": {
   "codemirror_mode": {
    "name": "ipython",
    "version": 3
   },
   "file_extension": ".py",
   "mimetype": "text/x-python",
   "name": "python",
   "nbconvert_exporter": "python",
   "pygments_lexer": "ipython3",
   "version": "3.9.7"
  }
 },
 "nbformat": 4,
 "nbformat_minor": 5
}
