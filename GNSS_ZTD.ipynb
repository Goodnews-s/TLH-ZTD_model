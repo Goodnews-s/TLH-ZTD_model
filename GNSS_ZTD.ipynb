{
 "cells": [
  {
   "cell_type": "code",
   "execution_count": null,
   "id": "d67fdf86",
   "metadata": {},
   "outputs": [],
   "source": [
    "import os\n",
    "import xlwt\n",
    "\n",
    "def Getnew(path):\n",
    "    os.chdir(path)\n",
    "    filelist = os.listdir(xlsbpath)\n",
    "    new=[]\n",
    "    for i in range(len(filelist)):\n",
    "        new.append(filelist[i])\n",
    "    return new\n",
    "\n",
    "def GetYear(new):\n",
    "    Year=[]\n",
    "    for i in range(len(new)):\n",
    "        f = open(r\"D:\\\\Xinshuai\\\\文献\\\\老大宝\\\\BACK2018\\\\\"+new[i],\"r\")\n",
    "        df=f.read().split('_SIG MTEMP')[1].split('-TROP/SOLUTION')[0].strip().replace(\"\\n\",\"\").replace(\"  \",\" \").split(\"BACK\")\n",
    "        if len(df)==289:\n",
    "            Year.append(df[1].strip().replace(\"  \",\" \").split(\" \"))\n",
    "            Year.append(df[49].strip().replace(\"  \",\" \").split(\" \"))\n",
    "            Year.append(df[97].strip().replace(\"  \",\" \").split(\" \"))\n",
    "            Year.append(df[145].strip().replace(\"  \",\" \").split(\" \"))\n",
    "            Year.append(df[193].strip().replace(\"  \",\" \").split(\" \"))\n",
    "            Year.append(df[241].strip().replace(\"  \",\" \").split(\" \"))\n",
    "\n",
    "    return Year\n",
    "\n",
    "def write_field_xls(path, sheet_name, value):\n",
    "    index = len(value)\n",
    "    workbook = xlwt.Workbook()\n",
    "    sheet = workbook.add_sheet(sheet_name)\n",
    "    for i in range(0, index):\n",
    "        for j in range(0, len(value[i])):\n",
    "            sheet.write(i, j, value[i][j])\n",
    "    workbook.save(path)\n",
    "    print(\"xls格式表格写入数据成功！\")\n",
    "\n",
    "Year=[]\n",
    "for i in range(len(file)):\n",
    "    new=Getnew(\"D:\\\\Xinshuai\\\\文献\\\\老大宝\\\\\"+file[i]+\"\\\\\")\n",
    "    year=GetYear(new)\n",
    "    Year.append(year)\n",
    "\n",
    "write_field_xls(\"C:\\\\Users\\\\86176\\\\Desktop\\\\BACK.xlsx\",\"BACK\",Year)"
   ]
  },
  {
   "cell_type": "code",
   "execution_count": 1,
   "id": "0bbc39aa",
   "metadata": {},
   "outputs": [],
   "source": [
    "import os\n",
    "xlsbpath=r\"D:\\\\Xinshuai\\\\文献\\\\老大宝\\\\NGL\\\\NGL对流层数据\"\n",
    "os.chdir(xlsbpath) #更改当前路径\n",
    "file_F = os.listdir(xlsbpath)"
   ]
  },
  {
   "cell_type": "code",
   "execution_count": 2,
   "id": "f9a288fb",
   "metadata": {},
   "outputs": [
    {
     "data": {
      "text/plain": [
       "'BACK'"
      ]
     },
     "execution_count": 2,
     "metadata": {},
     "output_type": "execute_result"
    }
   ],
   "source": [
    "file_F[0]"
   ]
  },
  {
   "cell_type": "code",
   "execution_count": 9,
   "id": "b8e9f546",
   "metadata": {
    "scrolled": true
   },
   "outputs": [],
   "source": [
    "import os\n",
    "import xlwt\n",
    "\n",
    "Year=[]\n",
    "def GetYear(df):\n",
    "    Year=[]\n",
    "    if len(df)==289:\n",
    "        Year.append(df[1].strip().replace(\"  \",\" \").split(\" \"))\n",
    "        Year.append(df[49].strip().replace(\"  \",\" \").split(\" \"))\n",
    "        Year.append(df[97].strip().replace(\"  \",\" \").split(\" \"))\n",
    "        Year.append(df[145].strip().replace(\"  \",\" \").split(\" \"))\n",
    "        Year.append(df[193].strip().replace(\"  \",\" \").split(\" \"))\n",
    "        Year.append(df[241].strip().replace(\"  \",\" \").split(\" \"))\n",
    "    return Year\n",
    "\n",
    "for i in range(len(file_F)):\n",
    "    xlsbpath=r\"D:/Xinshuai/文献/老大宝/NGL/NGL对流层数据/\"+file_F[i]+\"/\"\n",
    "    os.chdir(xlsbpath) #更改当前路径\n",
    "    file_S = os.listdir(xlsbpath)\n",
    "    year1=[]\n",
    "    for j in range(len(file_S)):\n",
    "        xlsb=xlsbpath+file_S[j]\n",
    "        os.chdir(xlsb) #更改当前路径\n",
    "        file_tr = os.listdir(xlsb)\n",
    "        for k in range(len(file_tr)):\n",
    "            f = open(xlsb+'/'+file_tr[k],\"r\")\n",
    "            df=f.read().split('_SIG MTEMP')[1]\n",
    "                .split('-TROP/SOLUTION')[0].strip().replace(\"\\n\",\"\")\n",
    "                .replace(\"  \",\" \").split(file_F[i])\n",
    "            year=GetYear(df)\n",
    "            year1.append(year)\n",
    "    Year.append(year1)"
   ]
  },
  {
   "cell_type": "code",
   "execution_count": 61,
   "id": "59241681",
   "metadata": {},
   "outputs": [
    {
     "data": {
      "text/plain": [
       "['18:007:28800',\n",
       " '2294.0',\n",
       " '1.7',\n",
       " '70.6',\n",
       " '0.48',\n",
       " '0.20',\n",
       " '0.08',\n",
       " '0.22',\n",
       " '10.55',\n",
       " '0.25',\n",
       " '261.7']"
      ]
     },
     "execution_count": 61,
     "metadata": {},
     "output_type": "execute_result"
    }
   ],
   "source": [
    "Year[0][6][2]"
   ]
  },
  {
   "cell_type": "code",
   "execution_count": 28,
   "id": "e7058e4d",
   "metadata": {},
   "outputs": [],
   "source": [
    "import pandas as pd"
   ]
  },
  {
   "cell_type": "code",
   "execution_count": 29,
   "id": "8ec990b9",
   "metadata": {},
   "outputs": [],
   "source": [
    "data=pd.read_excel(\"D:\\\\Xinshuai\\\\文献\\\\老大宝\\\\各测站经纬高度.xlsx\",header=None)"
   ]
  },
  {
   "cell_type": "code",
   "execution_count": 39,
   "id": "4ed7b1ea",
   "metadata": {},
   "outputs": [
    {
     "data": {
      "text/plain": [
       "('BACK', -74.430441368, -102.47818551, 33.1779355)"
      ]
     },
     "execution_count": 39,
     "metadata": {},
     "output_type": "execute_result"
    }
   ],
   "source": [
    "data[0][1],data[1][1],data[2][1],data[3][1]"
   ]
  },
  {
   "cell_type": "code",
   "execution_count": 98,
   "id": "23978c77",
   "metadata": {},
   "outputs": [
    {
     "data": {
      "text/plain": [
       "1293"
      ]
     },
     "execution_count": 98,
     "metadata": {},
     "output_type": "execute_result"
    }
   ],
   "source": [
    "len(Year[0])"
   ]
  },
  {
   "cell_type": "code",
   "execution_count": 73,
   "id": "e03bec47",
   "metadata": {},
   "outputs": [
    {
     "ename": "IndexError",
     "evalue": "list index out of range",
     "output_type": "error",
     "traceback": [
      "\u001b[1;31m---------------------------------------------------------------------------\u001b[0m",
      "\u001b[1;31mIndexError\u001b[0m                                Traceback (most recent call last)",
      "\u001b[1;32m~\\AppData\\Local\\Temp/ipykernel_23960/3925813142.py\u001b[0m in \u001b[0;36m<module>\u001b[1;34m\u001b[0m\n\u001b[0;32m      6\u001b[0m     \u001b[0mDF_\u001b[0m\u001b[1;33m.\u001b[0m\u001b[0mappend\u001b[0m\u001b[1;33m(\u001b[0m\u001b[0mdata\u001b[0m\u001b[1;33m[\u001b[0m\u001b[1;36m3\u001b[0m\u001b[1;33m]\u001b[0m\u001b[1;33m[\u001b[0m\u001b[0mi\u001b[0m\u001b[1;33m+\u001b[0m\u001b[1;36m1\u001b[0m\u001b[1;33m]\u001b[0m\u001b[1;33m)\u001b[0m\u001b[1;33m\u001b[0m\u001b[1;33m\u001b[0m\u001b[0m\n\u001b[0;32m      7\u001b[0m     \u001b[1;32mfor\u001b[0m \u001b[0mj\u001b[0m \u001b[1;32min\u001b[0m \u001b[0mrange\u001b[0m\u001b[1;33m(\u001b[0m\u001b[0mlen\u001b[0m\u001b[1;33m(\u001b[0m\u001b[0mYear\u001b[0m\u001b[1;33m[\u001b[0m\u001b[0mi\u001b[0m\u001b[1;33m]\u001b[0m\u001b[1;33m[\u001b[0m\u001b[0mj\u001b[0m\u001b[1;33m]\u001b[0m\u001b[1;33m)\u001b[0m\u001b[1;33m)\u001b[0m\u001b[1;33m:\u001b[0m\u001b[1;33m\u001b[0m\u001b[1;33m\u001b[0m\u001b[0m\n\u001b[1;32m----> 8\u001b[1;33m         \u001b[1;32mfor\u001b[0m \u001b[0mk\u001b[0m \u001b[1;32min\u001b[0m \u001b[0mrange\u001b[0m\u001b[1;33m(\u001b[0m\u001b[0mlen\u001b[0m\u001b[1;33m(\u001b[0m\u001b[0mYear\u001b[0m\u001b[1;33m[\u001b[0m\u001b[0mi\u001b[0m\u001b[1;33m]\u001b[0m\u001b[1;33m[\u001b[0m\u001b[0mj\u001b[0m\u001b[1;33m]\u001b[0m\u001b[1;33m[\u001b[0m\u001b[0mk\u001b[0m\u001b[1;33m]\u001b[0m\u001b[1;33m)\u001b[0m\u001b[1;33m)\u001b[0m\u001b[1;33m:\u001b[0m\u001b[1;33m\u001b[0m\u001b[1;33m\u001b[0m\u001b[0m\n\u001b[0m\u001b[0;32m      9\u001b[0m             \u001b[0mDF_\u001b[0m\u001b[1;33m.\u001b[0m\u001b[0mappend\u001b[0m\u001b[1;33m(\u001b[0m\u001b[0mYear\u001b[0m\u001b[1;33m[\u001b[0m\u001b[0mi\u001b[0m\u001b[1;33m]\u001b[0m\u001b[1;33m[\u001b[0m\u001b[0mj\u001b[0m\u001b[1;33m]\u001b[0m\u001b[1;33m[\u001b[0m\u001b[0mk\u001b[0m\u001b[1;33m]\u001b[0m\u001b[1;33m[\u001b[0m\u001b[1;36m0\u001b[0m\u001b[1;33m]\u001b[0m\u001b[1;33m)\u001b[0m\u001b[1;33m\u001b[0m\u001b[1;33m\u001b[0m\u001b[0m\n\u001b[0;32m     10\u001b[0m             \u001b[0mDF_\u001b[0m\u001b[1;33m.\u001b[0m\u001b[0mappend\u001b[0m\u001b[1;33m(\u001b[0m\u001b[0mYear\u001b[0m\u001b[1;33m[\u001b[0m\u001b[0mi\u001b[0m\u001b[1;33m]\u001b[0m\u001b[1;33m[\u001b[0m\u001b[0mj\u001b[0m\u001b[1;33m]\u001b[0m\u001b[1;33m[\u001b[0m\u001b[0mk\u001b[0m\u001b[1;33m]\u001b[0m\u001b[1;33m[\u001b[0m\u001b[1;36m1\u001b[0m\u001b[1;33m]\u001b[0m\u001b[1;33m)\u001b[0m\u001b[1;33m\u001b[0m\u001b[1;33m\u001b[0m\u001b[0m\n",
      "\u001b[1;31mIndexError\u001b[0m: list index out of range"
     ]
    }
   ],
   "source": [
    "DF=[]\n",
    "for i in range(len(Year[i])):\n",
    "    DF_=[]\n",
    "    DF_.append(data[1][i+1])  \n",
    "    DF_.append(data[2][i+1])\n",
    "    DF_.append(data[3][i+1])\n",
    "    for j in range(len(Year[i][j])):\n",
    "        for k in range(len(Year[i][j][k])):\n",
    "            DF_.append(Year[i][j][k][0])\n",
    "            DF_.append(Year[i][j][k][1])\n",
    "    DF.append(DF_)"
   ]
  },
  {
   "cell_type": "code",
   "execution_count": 106,
   "id": "6bf8b70a",
   "metadata": {},
   "outputs": [],
   "source": [
    "DF=[]\n",
    "for i in range(len(Year)):\n",
    "    DF_=[]\n",
    "    for j in range(len(Year[i])):\n",
    "        DF_1=[]\n",
    "        for k in range(len(Year[i][j])):\n",
    "            DF_2=[]\n",
    "            DF_2.append(data[1][i+1])  \n",
    "            DF_2.append(data[2][i+1])\n",
    "            DF_2.append(data[3][i+1])\n",
    "            DF_2.append(Year[i][j][k][0])\n",
    "            DF_2.append(Year[i][j][k][1])\n",
    "            DF_1.append(DF_2)\n",
    "        DF_.append(DF_1)\n",
    "    DF.append(DF_)"
   ]
  },
  {
   "cell_type": "code",
   "execution_count": 116,
   "id": "60f9e29e",
   "metadata": {},
   "outputs": [
    {
     "data": {
      "text/plain": [
       "-102.47818551"
      ]
     },
     "execution_count": 116,
     "metadata": {},
     "output_type": "execute_result"
    }
   ],
   "source": [
    "DF[0][1][1]"
   ]
  },
  {
   "cell_type": "code",
   "execution_count": 111,
   "id": "00ccb014",
   "metadata": {},
   "outputs": [],
   "source": [
    "def write_field_xls(path, sheet_name, value):\n",
    "    index = len(value)\n",
    "    workbook = xlwt.Workbook()\n",
    "    sheet = workbook.add_sheet(sheet_name)\n",
    "    for i in range(0, index):\n",
    "        for j in range(0, len(value[i])):\n",
    "            sheet.write(i, j, value[i][j])\n",
    "    workbook.save(path)\n",
    "    print(\"xls格式表格写入数据成功！\")"
   ]
  },
  {
   "cell_type": "code",
   "execution_count": 119,
   "id": "b8eaab1c",
   "metadata": {},
   "outputs": [
    {
     "data": {
      "text/plain": [
       "'BACK'"
      ]
     },
     "execution_count": 119,
     "metadata": {},
     "output_type": "execute_result"
    }
   ],
   "source": [
    "file_F[0]"
   ]
  },
  {
   "cell_type": "code",
   "execution_count": 141,
   "id": "c788ea24",
   "metadata": {},
   "outputs": [
    {
     "data": {
      "text/plain": [
       "5"
      ]
     },
     "execution_count": 141,
     "metadata": {},
     "output_type": "execute_result"
    }
   ],
   "source": [
    "len(DF[0][0][1])"
   ]
  },
  {
   "cell_type": "code",
   "execution_count": 144,
   "id": "b5b295dc",
   "metadata": {},
   "outputs": [
    {
     "name": "stdout",
     "output_type": "stream",
     "text": [
      "BACK的xls格式表格写入数据成功！\n",
      "BENN的xls格式表格写入数据成功！\n",
      "BURI的xls格式表格写入数据成功！\n",
      "CAPF的xls格式表格写入数据成功！\n",
      "CAS1的xls格式表格写入数据成功！\n",
      "CLRK的xls格式表格写入数据成功！\n",
      "COTE的xls格式表格写入数据成功！\n",
      "CRDI的xls格式表格写入数据成功！\n",
      "DAV1的xls格式表格写入数据成功！\n",
      "DUMG的xls格式表格写入数据成功！\n",
      "DUPT的xls格式表格写入数据成功！\n",
      "FLM5的xls格式表格写入数据成功！\n",
      "HAAG的xls格式表格写入数据成功！\n",
      "HOWN的xls格式表格写入数据成功！\n",
      "LPLY的xls格式表格写入数据成功！\n",
      "LTHW的xls格式表格写入数据成功！\n",
      "MAW1的xls格式表格写入数据成功！\n",
      "MCAR的xls格式表格写入数据成功！\n",
      "MCM4的xls格式表格写入数据成功！\n",
      "MIN0的xls格式表格写入数据成功！\n",
      "OHI2的xls格式表格写入数据成功！\n",
      "OHI3的xls格式表格写入数据成功！\n",
      "PALM的xls格式表格写入数据成功！\n",
      "PECE的xls格式表格写入数据成功！\n",
      "PIRT的xls格式表格写入数据成功！\n",
      "RMBO的xls格式表格写入数据成功！\n",
      "ROB4的xls格式表格写入数据成功！\n",
      "ROTH的xls格式表格写入数据成功！\n",
      "SCTB的xls格式表格写入数据成功！\n",
      "SPGT的xls格式表格写入数据成功！\n",
      "STEW的xls格式表格写入数据成功！\n",
      "SYOG的xls格式表格写入数据成功！\n",
      "TOMO的xls格式表格写入数据成功！\n",
      "WHTM的xls格式表格写入数据成功！\n",
      "WILN的xls格式表格写入数据成功！\n"
     ]
    }
   ],
   "source": [
    "for i in range(len(DF)):\n",
    "    path=\"D:\\\\Xinshuai\\\\文献\\\\老大宝\\\\ZTD_L\\\\\"+file_F[i]+\".xlsx\"\n",
    "    z=0\n",
    "    workbook = xlwt.Workbook()\n",
    "    sheet = workbook.add_sheet(file_F[i])\n",
    "    for j in range(len(DF[i])):\n",
    "        for k in range(len(DF[i][j])):\n",
    "            for m in range(len(DF[i][j][k])):\n",
    "                sheet.write(z,m, DF[i][j][k][m])\n",
    "            z+=1\n",
    "            workbook.save(path)\n",
    "    print(file_F[i]+\"的xls格式表格写入数据成功！\")"
   ]
  },
  {
   "cell_type": "code",
   "execution_count": null,
   "id": "d0fb76bc",
   "metadata": {},
   "outputs": [],
   "source": []
  }
 ],
 "metadata": {
  "kernelspec": {
   "display_name": "Python 3 (ipykernel)",
   "language": "python",
   "name": "python3"
  },
  "language_info": {
   "codemirror_mode": {
    "name": "ipython",
    "version": 3
   },
   "file_extension": ".py",
   "mimetype": "text/x-python",
   "name": "python",
   "nbconvert_exporter": "python",
   "pygments_lexer": "ipython3",
   "version": "3.9.7"
  }
 },
 "nbformat": 4,
 "nbformat_minor": 5
}
